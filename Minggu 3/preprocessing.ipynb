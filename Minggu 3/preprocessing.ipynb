{
  "nbformat": 4,
  "nbformat_minor": 0,
  "metadata": {
    "colab": {
      "provenance": []
    },
    "kernelspec": {
      "name": "python3",
      "display_name": "Python 3"
    },
    "language_info": {
      "name": "python"
    }
  },
  "cells": [
    {
      "cell_type": "code",
      "execution_count": 11,
      "metadata": {
        "id": "OpISVIFKpQiC"
      },
      "outputs": [],
      "source": [
        "import numpy as np\n",
        "import matplotlib.pyplot as plt\n",
        "import pandas as pd"
      ]
    },
    {
      "cell_type": "code",
      "source": [
        "dataset = pd.read_csv('Data_Gempa.csv')\n",
        "x = dataset.iloc[:, :-1].values\n",
        "y = dataset.iloc[:, -1].values"
      ],
      "metadata": {
        "id": "DTbio1y4rz7u"
      },
      "execution_count": 12,
      "outputs": []
    },
    {
      "cell_type": "code",
      "source": [
        "print(x)"
      ],
      "metadata": {
        "colab": {
          "base_uri": "https://localhost:8080/"
        },
        "id": "TXrsUVfIuOQo",
        "outputId": "73cc4297-672e-4cdc-f933-040cadab310d"
      },
      "execution_count": 13,
      "outputs": [
        {
          "output_type": "stream",
          "name": "stdout",
          "text": [
            "[['Sumatera' 874 165.0 1.0 1040]\n",
            " ['Jawa' 897 100.0 5.0 1002]\n",
            " ['Bali' 60 27.0 nan 87]\n",
            " ['Nusa Tenggara' 1047 384.0 36.0 1467]\n",
            " ['Kalimantan' 36 nan nan 36]\n",
            " ['Sulawesi' 1493 451.0 33.0 1977]\n",
            " ['Maluku' 800 365.0 32.0 1197]\n",
            " ['Papua' 581 55.0 nan 636]]\n"
          ]
        }
      ]
    },
    {
      "cell_type": "code",
      "source": [
        "print(y)"
      ],
      "metadata": {
        "colab": {
          "base_uri": "https://localhost:8080/"
        },
        "id": "cou4Fkisuw0i",
        "outputId": "66f9f7d8-02f8-4606-efa1-4688661346b0"
      },
      "execution_count": 14,
      "outputs": [
        {
          "output_type": "stream",
          "name": "stdout",
          "text": [
            "['Yes' 'Yes' 'No' 'Yes' 'No' 'Yes' 'Yes' 'Yes']\n"
          ]
        }
      ]
    },
    {
      "cell_type": "code",
      "source": [
        "from sklearn.impute import SimpleImputer\n",
        "imputer = SimpleImputer(missing_values=np.nan, strategy='mean')\n",
        "imputer.fit(x[:, 1:5])\n",
        "x[:, 1:5] = imputer.transform(x[:, 1:5])"
      ],
      "metadata": {
        "id": "DuEzSo7Zyxcl"
      },
      "execution_count": 16,
      "outputs": []
    },
    {
      "cell_type": "code",
      "source": [
        "print(x)"
      ],
      "metadata": {
        "colab": {
          "base_uri": "https://localhost:8080/"
        },
        "id": "CSSLGbH72cx1",
        "outputId": "c04fc824-a31d-49ce-bd6b-7a32193fe042"
      },
      "execution_count": 17,
      "outputs": [
        {
          "output_type": "stream",
          "name": "stdout",
          "text": [
            "[['Sumatera' 874.0 165.0 1.0 1040.0]\n",
            " ['Jawa' 897.0 100.0 5.0 1002.0]\n",
            " ['Bali' 60.0 27.0 21.4 87.0]\n",
            " ['Nusa Tenggara' 1047.0 384.0 36.0 1467.0]\n",
            " ['Kalimantan' 36.0 221.0 21.4 36.0]\n",
            " ['Sulawesi' 1493.0 451.0 33.0 1977.0]\n",
            " ['Maluku' 800.0 365.0 32.0 1197.0]\n",
            " ['Papua' 581.0 55.0 21.4 636.0]]\n"
          ]
        }
      ]
    },
    {
      "cell_type": "code",
      "source": [
        "from sklearn.compose import ColumnTransformer\n",
        "from sklearn.preprocessing import OneHotEncoder\n",
        "ct = ColumnTransformer(transformers=[('encoder', OneHotEncoder(), [0])], remainder='passthrough')\n",
        "x = np.array(ct.fit_transform(x))"
      ],
      "metadata": {
        "id": "652uuF863u_3"
      },
      "execution_count": 19,
      "outputs": []
    },
    {
      "cell_type": "code",
      "source": [
        "print(x)"
      ],
      "metadata": {
        "colab": {
          "base_uri": "https://localhost:8080/"
        },
        "id": "TLsCQoH56OWH",
        "outputId": "e597ce89-1734-470f-cce5-0f1faa2b16a4"
      },
      "execution_count": 20,
      "outputs": [
        {
          "output_type": "stream",
          "name": "stdout",
          "text": [
            "[[0.0 0.0 0.0 0.0 0.0 0.0 0.0 1.0 874.0 165.0 1.0 1040.0]\n",
            " [0.0 1.0 0.0 0.0 0.0 0.0 0.0 0.0 897.0 100.0 5.0 1002.0]\n",
            " [1.0 0.0 0.0 0.0 0.0 0.0 0.0 0.0 60.0 27.0 21.4 87.0]\n",
            " [0.0 0.0 0.0 0.0 1.0 0.0 0.0 0.0 1047.0 384.0 36.0 1467.0]\n",
            " [0.0 0.0 1.0 0.0 0.0 0.0 0.0 0.0 36.0 221.0 21.4 36.0]\n",
            " [0.0 0.0 0.0 0.0 0.0 0.0 1.0 0.0 1493.0 451.0 33.0 1977.0]\n",
            " [0.0 0.0 0.0 1.0 0.0 0.0 0.0 0.0 800.0 365.0 32.0 1197.0]\n",
            " [0.0 0.0 0.0 0.0 0.0 1.0 0.0 0.0 581.0 55.0 21.4 636.0]]\n"
          ]
        }
      ]
    },
    {
      "cell_type": "code",
      "source": [
        "from sklearn.preprocessing import LabelEncoder\n",
        "le = LabelEncoder()\n",
        "y = le.fit_transform(y)"
      ],
      "metadata": {
        "id": "cMtwU3ge7Cud"
      },
      "execution_count": 21,
      "outputs": []
    },
    {
      "cell_type": "code",
      "source": [
        "print(y)"
      ],
      "metadata": {
        "colab": {
          "base_uri": "https://localhost:8080/"
        },
        "id": "jYkSR1JP7bM2",
        "outputId": "6d3547d3-c891-465d-c94e-41ce35ed65c2"
      },
      "execution_count": 22,
      "outputs": [
        {
          "output_type": "stream",
          "name": "stdout",
          "text": [
            "[1 1 0 1 0 1 1 1]\n"
          ]
        }
      ]
    },
    {
      "cell_type": "code",
      "source": [
        "from sklearn.model_selection import train_test_split\n",
        "x_train, x_test, y_train, y_test = train_test_split(x, y, test_size=0.2, random_state=1)"
      ],
      "metadata": {
        "id": "8DVYKjS873sp"
      },
      "execution_count": 23,
      "outputs": []
    },
    {
      "cell_type": "code",
      "source": [
        "print(x_train)"
      ],
      "metadata": {
        "colab": {
          "base_uri": "https://localhost:8080/"
        },
        "id": "dvLeYqFs9JYC",
        "outputId": "34b6d732-c8c7-4206-c5e5-1661255423d5"
      },
      "execution_count": 24,
      "outputs": [
        {
          "output_type": "stream",
          "name": "stdout",
          "text": [
            "[[0.0 1.0 0.0 0.0 0.0 0.0 0.0 0.0 897.0 100.0 5.0 1002.0]\n",
            " [0.0 0.0 0.0 1.0 0.0 0.0 0.0 0.0 800.0 365.0 32.0 1197.0]\n",
            " [0.0 0.0 0.0 0.0 0.0 0.0 0.0 1.0 874.0 165.0 1.0 1040.0]\n",
            " [0.0 0.0 1.0 0.0 0.0 0.0 0.0 0.0 36.0 221.0 21.4 36.0]\n",
            " [0.0 0.0 0.0 0.0 1.0 0.0 0.0 0.0 1047.0 384.0 36.0 1467.0]\n",
            " [0.0 0.0 0.0 0.0 0.0 0.0 1.0 0.0 1493.0 451.0 33.0 1977.0]]\n"
          ]
        }
      ]
    },
    {
      "cell_type": "code",
      "source": [
        "print(x_test)"
      ],
      "metadata": {
        "colab": {
          "base_uri": "https://localhost:8080/"
        },
        "id": "KvgvVYEI9dtF",
        "outputId": "0fb1efe0-35b2-46de-e6d1-c3656148cf7c"
      },
      "execution_count": 25,
      "outputs": [
        {
          "output_type": "stream",
          "name": "stdout",
          "text": [
            "[[0.0 0.0 0.0 0.0 0.0 1.0 0.0 0.0 581.0 55.0 21.4 636.0]\n",
            " [1.0 0.0 0.0 0.0 0.0 0.0 0.0 0.0 60.0 27.0 21.4 87.0]]\n"
          ]
        }
      ]
    },
    {
      "cell_type": "code",
      "source": [
        "print(y_train)"
      ],
      "metadata": {
        "colab": {
          "base_uri": "https://localhost:8080/"
        },
        "id": "xfTkYAmX9kns",
        "outputId": "e0d5f04b-29d8-426f-e570-94e75728e250"
      },
      "execution_count": 26,
      "outputs": [
        {
          "output_type": "stream",
          "name": "stdout",
          "text": [
            "[1 1 1 0 1 1]\n"
          ]
        }
      ]
    },
    {
      "cell_type": "code",
      "source": [
        "print(y_test)"
      ],
      "metadata": {
        "colab": {
          "base_uri": "https://localhost:8080/"
        },
        "id": "NE1noAAZ9qwN",
        "outputId": "d3e0b4eb-962f-4422-cc50-984d9f19e739"
      },
      "execution_count": 27,
      "outputs": [
        {
          "output_type": "stream",
          "name": "stdout",
          "text": [
            "[1 0]\n"
          ]
        }
      ]
    },
    {
      "cell_type": "code",
      "source": [
        "from sklearn.preprocessing import StandardScaler\n",
        "sc = StandardScaler()\n",
        "x_train[:, 5:] = sc.fit_transform(x_train[:, 5:])\n",
        "x_test[:, 5:] =sc.transform(x_test[:, 5:])"
      ],
      "metadata": {
        "id": "ZafnPFNr_63F"
      },
      "execution_count": 28,
      "outputs": []
    },
    {
      "cell_type": "code",
      "source": [
        "print(x_train)"
      ],
      "metadata": {
        "colab": {
          "base_uri": "https://localhost:8080/"
        },
        "id": "4FHRnoX1AzQa",
        "outputId": "b40d4823-605d-4899-aac3-8593f80eb62d"
      },
      "execution_count": 29,
      "outputs": [
        {
          "output_type": "stream",
          "name": "stdout",
          "text": [
            "[[0.0 1.0 0.0 0.0 0.0 0.0 -0.44721359549995787 -0.44721359549995787\n",
            "  0.09066249394399677 -1.4280921537788058 -1.1870767624539225\n",
            "  -0.20128648399974203]\n",
            " [0.0 0.0 0.0 1.0 0.0 0.0 -0.44721359549995787 -0.44721359549995787\n",
            "  -0.13387185275985927 0.6627609995437552 0.767256931829974\n",
            "  0.1318184470889402]\n",
            " [0.0 0.0 0.0 0.0 0.0 0.0 -0.44721359549995787 2.2360679774997894\n",
            "  0.03742239111730925 -0.9152413803223286 -1.4766076801256107\n",
            "  -0.136373728197845]\n",
            " [0.0 0.0 1.0 0.0 0.0 0.0 -0.44721359549995787 -0.44721359549995787\n",
            "  -1.9023691814376533 -0.47340071395982514 -2.5715511291196724e-16\n",
            "  -1.8514370657005985]\n",
            " [0.0 0.0 0.0 0.0 1.0 0.0 -0.44721359549995787 -0.44721359549995787\n",
            "  0.4378805558571762 0.8126712256310331 1.0567878495016623\n",
            "  0.5930406593655771]\n",
            " [0.0 0.0 0.0 0.0 0.0 0.0 2.2360679774997894 -0.44721359549995787\n",
            "  1.4702755932790297 1.3413020228861712 0.839639661247896\n",
            "  1.4642381714436692]]\n"
          ]
        }
      ]
    },
    {
      "cell_type": "code",
      "source": [
        "print(x_test)"
      ],
      "metadata": {
        "colab": {
          "base_uri": "https://localhost:8080/"
        },
        "id": "RQmE5UOvA_ab",
        "outputId": "c0f5a71c-ba2b-4bc9-b4be-6266831a2dfc"
      },
      "execution_count": 30,
      "outputs": [
        {
          "output_type": "stream",
          "name": "stdout",
          "text": [
            "[[0.0 0.0 0.0 0.0 0.0 1.0 -0.44721359549995787 -0.44721359549995787\n",
            "  -0.6408102231531012 -1.7831426892486746 -2.5715511291196724e-16\n",
            "  -0.826498816196961]\n",
            " [1.0 0.0 0.0 0.0 0.0 0.0 -0.44721359549995787 -0.44721359549995787\n",
            "  -1.8468142915315446 -2.0040630224299263 -2.5715511291196724e-16\n",
            "  -1.7643173144927895]]\n"
          ]
        }
      ]
    }
  ]
}